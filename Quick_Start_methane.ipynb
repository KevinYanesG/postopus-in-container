{
 "cells": [
  {
   "cell_type": "code",
   "execution_count": 6,
   "id": "7ec87d3d-9d40-4bf1-b6db-b30176526595",
   "metadata": {},
   "outputs": [],
   "source": [
    "from pathlib import Path\n",
    "import os\n",
    "import shutil\n",
    "\n",
    "from postopus import Run\n",
    "\n",
    "example_dir = \"examples/methane\"\n",
    "# Path to some example data\n",
    "path_to_octopus_output =Path(example_dir)\n",
    "\n",
    "# Instantiate Run object`\n",
    "run = Run(path_to_octopus_output)"
   ]
  },
  {
   "cell_type": "code",
   "execution_count": 11,
   "id": "fb8a17cf",
   "metadata": {},
   "outputs": [],
   "source": [
    "example_dir = \"examples/methane\"\n",
    "\n",
    "# first run ground state calculations by\n",
    "# copying the inp from eexample_di/calculation_gs to example_dir and run octopus\n",
    "shutil.copyfile(\n",
    "    os.path.join(example_dir, \"calculation_gs\", \"inp\"),\n",
    "    os.path.join(example_dir, \"inp\")\n",
    ")\n",
    "! cd {example_dir}  && octopus > out_gs.log 2>&1 \n",
    "\n",
    "# then run the td calculations by\n",
    "# copying the inp from example_di/calculation_td to example_dir and run octopus\n",
    "shutil.copyfile(\n",
    "    os.path.join(example_dir, \"calculation_td\", \"inp\"),\n",
    "    os.path.join(example_dir, \"inp\")\n",
    ")\n",
    "\n",
    "! cd {example_dir}  && octopus > out_td.log  2>&1\n"
   ]
  },
  {
   "cell_type": "code",
   "execution_count": null,
   "id": "fac9c993-85d6-4c15-b3e0-fceeb74500d2",
   "metadata": {},
   "outputs": [],
   "source": []
  }
 ],
 "metadata": {
  "kernelspec": {
   "display_name": "Python 3 (ipykernel)",
   "language": "python",
   "name": "python3"
  },
  "language_info": {
   "codemirror_mode": {
    "name": "ipython",
    "version": 3
   },
   "file_extension": ".py",
   "mimetype": "text/x-python",
   "name": "python",
   "nbconvert_exporter": "python",
   "pygments_lexer": "ipython3",
   "version": "3.9.2"
  }
 },
 "nbformat": 4,
 "nbformat_minor": 5
}
