{
 "cells": [
  {
   "cell_type": "code",
   "execution_count": 17,
   "id": "7ec87d3d-9d40-4bf1-b6db-b30176526595",
   "metadata": {},
   "outputs": [],
   "source": [
    "import os\n",
    "from pathlib import Path\n",
    "import shutil\n",
    "\n",
    "from postopus import Run\n",
    "\n",
    "example_dir = \"examples/methane\"\n",
    "# Path to some example data\n",
    "path_to_octopus_output = Path(example_dir)"
   ]
  },
  {
   "cell_type": "markdown",
   "id": "691367c3",
   "metadata": {},
   "source": []
  },
  {
   "cell_type": "code",
   "execution_count": 52,
   "id": "fb8a17cf",
   "metadata": {},
   "outputs": [
    {
     "name": "stdout",
     "output_type": "stream",
     "text": [
      "    <><><><><><><><><><><><><><><><><><><><><><><><><><><><><><><>\n",
      "                                ___\n",
      "                             .-'   `'.\n",
      "                            /         \\\n",
      "                            |         ;\n",
      "                            |         |           ___.--,\n",
      "                   _.._     |0) ~ (0) |    _.---'`__.-( (_.\n",
      "            __.--'`_.. '.__.\\    '--. \\_.-' ,.--'`     `\"\"`\n",
      "           ( ,.--'`   ',__ /./;   ;, '.__.'`    __\n",
      "           _`) )  .---.__.' / |   |\\   \\__..--\"\"  \"\"\"--.,_\n",
      "          `---' .'.''-._.-'`_./  /\\ '.  \\ _.-~~~````~~~-._`-.__.'\n",
      "                | |  .' _.-' |  |  \\  \\  '.               `~---`\n",
      "                 \\ \\/ .'     \\  \\   '. '-._)\n",
      "                  \\/ /        \\  \\    `=.__`~-.\n",
      "             jgs  / /\\         `) )    / / `\"\".`\\\n",
      "            , _.-'.'\\ \\        / /    ( (     / /\n",
      "             `--~`   ) )    .-'.'      '.'.  | (\n",
      "                    (/`    ( (`          ) )  '-;\n",
      "                     `      '-;         (-'\n",
      "\n"
     ]
    }
   ],
   "source": [
    "# first run ground state calculations by\n",
    "# copying the inp from example_di/calculation_gs to example_dir and run octopus\n",
    "shutil.copyfile(\n",
    "    os.path.join(example_dir, \"calculation_gs\", \"inp\"),\n",
    "    os.path.join(example_dir, \"inp\")\n",
    ")\n",
    "! cd {example_dir}  && octopus > out_gs.log 2>&1 \n",
    "! cd {example_dir}  && head -n 20 out_gs.log  # Just to see the first 20 lines of the octopus output"
   ]
  },
  {
   "cell_type": "code",
   "execution_count": 51,
   "id": "a3bf2f0f-cbb3-4efe-a262-e8ffb4faa880",
   "metadata": {},
   "outputs": [
    {
     "name": "stdout",
     "output_type": "stream",
     "text": [
      "    <><><><><><><><><><><><><><><><><><><><><><><><><><><><><><><>\n",
      "                                ___\n",
      "                             .-'   `'.\n",
      "                            /         \\\n",
      "                            |         ;\n",
      "                            |         |           ___.--,\n",
      "                   _.._     |0) ~ (0) |    _.---'`__.-( (_.\n",
      "            __.--'`_.. '.__.\\    '--. \\_.-' ,.--'`     `\"\"`\n",
      "           ( ,.--'`   ',__ /./;   ;, '.__.'`    __\n",
      "           _`) )  .---.__.' / |   |\\   \\__..--\"\"  \"\"\"--.,_\n",
      "          `---' .'.''-._.-'`_./  /\\ '.  \\ _.-~~~````~~~-._`-.__.'\n",
      "                | |  .' _.-' |  |  \\  \\  '.               `~---`\n",
      "                 \\ \\/ .'     \\  \\   '. '-._)\n",
      "                  \\/ /        \\  \\    `=.__`~-.\n",
      "             jgs  / /\\         `) )    / / `\"\".`\\\n",
      "            , _.-'.'\\ \\        / /    ( (     / /\n",
      "             `--~`   ) )    .-'.'      '.'.  | (\n",
      "                    (/`    ( (`          ) )  '-;\n",
      "                     `      '-;         (-'\n",
      "\n"
     ]
    }
   ],
   "source": [
    "# then run the td calculations by\n",
    "# copying the inp from example_di/calculation_td to example_dir and run octopus\n",
    "shutil.copyfile(\n",
    "    os.path.join(example_dir, \"calculation_td\", \"inp\"),\n",
    "    os.path.join(example_dir, \"inp\")\n",
    ")\n",
    "\n",
    "! cd {example_dir}  && octopus > out_td.log  2>&1\n",
    "! cd {example_dir}  && head -n 20 out_td.log # Just to see the first 20 lines of the octopus output"
   ]
  },
  {
   "cell_type": "code",
   "execution_count": null,
   "id": "5210cc4b-7e69-4d57-8f09-8b5e151aaf14",
   "metadata": {},
   "outputs": [],
   "source": [
    "# Instantiate Run object\n",
    "run = Run(path_to_octopus_output)"
   ]
  },
  {
   "cell_type": "code",
   "execution_count": 18,
   "id": "fac9c993-85d6-4c15-b3e0-fceeb74500d2",
   "metadata": {},
   "outputs": [
    {
     "data": {
      "text/plain": [
       "dict_keys(['default'])"
      ]
     },
     "execution_count": 18,
     "metadata": {},
     "output_type": "execute_result"
    }
   ],
   "source": [
    "run.systems.keys()"
   ]
  },
  {
   "cell_type": "code",
   "execution_count": 20,
   "id": "47a94d7e-d531-48d3-86f0-f23e37c98bfd",
   "metadata": {},
   "outputs": [
    {
     "data": {
      "text/plain": [
       "dict_keys(['scf', 'td'])"
      ]
     },
     "execution_count": 20,
     "metadata": {},
     "output_type": "execute_result"
    }
   ],
   "source": [
    "run.default.system_data.keys()"
   ]
  },
  {
   "cell_type": "code",
   "execution_count": 27,
   "id": "7ce26c7f-560e-4f5e-a65f-c5b5b513e41c",
   "metadata": {},
   "outputs": [],
   "source": [
    "density =  run.default.scf.density\n",
    "xa = density.get_converged(source=\"ncdf\")"
   ]
  },
  {
   "cell_type": "code",
   "execution_count": 28,
   "id": "75b5a016-bed9-4236-9ba4-c97ea53e2681",
   "metadata": {},
   "outputs": [
    {
     "data": {
      "text/plain": [
       "Coordinates:\n",
       "  * x        (x) float64 -7.483 -7.143 -6.803 -6.463 ... 6.463 6.803 7.143 7.483\n",
       "  * y        (y) float64 -7.483 -7.143 -6.803 -6.463 ... 6.463 6.803 7.143 7.483\n",
       "  * z        (z) float64 -7.483 -7.143 -6.803 -6.463 ... 6.463 6.803 7.143 7.483\n",
       "  * step     (step) int64 17"
      ]
     },
     "execution_count": 28,
     "metadata": {},
     "output_type": "execute_result"
    }
   ],
   "source": [
    "xa.coords"
   ]
  },
  {
   "cell_type": "code",
   "execution_count": 29,
   "id": "c5399966-05b4-4427-a03b-36d719ffb0c5",
   "metadata": {},
   "outputs": [
    {
     "data": {
      "text/plain": [
       "(1, 45, 45, 45)"
      ]
     },
     "execution_count": 29,
     "metadata": {},
     "output_type": "execute_result"
    }
   ],
   "source": [
    "xa.values.shape"
   ]
  },
  {
   "cell_type": "code",
   "execution_count": 44,
   "id": "4fdaae3d-f588-44dd-afd6-792ddb710040",
   "metadata": {},
   "outputs": [],
   "source": [
    "s0 = xa.isel(z=22)"
   ]
  },
  {
   "cell_type": "code",
   "execution_count": 45,
   "id": "c9c3d321-5b02-4f3c-be83-17318a0495c0",
   "metadata": {},
   "outputs": [
    {
     "data": {
      "text/plain": [
       "<matplotlib.collections.QuadMesh at 0x7f9b46e5c100>"
      ]
     },
     "execution_count": 45,
     "metadata": {},
     "output_type": "execute_result"
    },
    {
     "data": {
      "image/png": "[encoded data removed]",
      "text/plain": [
       "<Figure size 640x480 with 2 Axes>"
      ]
     },
     "metadata": {},
     "output_type": "display_data"
    }
   ],
   "source": [
    "s0.plot()"
   ]
  },
  {
   "cell_type": "code",
   "execution_count": null,
   "id": "151475cf-5544-470b-beef-eb8a85c3750c",
   "metadata": {},
   "outputs": [],
   "source": []
  }
 ],
 "metadata": {
  "kernelspec": {
   "display_name": "Python 3 (ipykernel)",
   "language": "python",
   "name": "python3"
  },
  "language_info": {
   "codemirror_mode": {
    "name": "ipython",
    "version": 3
   },
   "file_extension": ".py",
   "mimetype": "text/x-python",
   "name": "python",
   "nbconvert_exporter": "python",
   "pygments_lexer": "ipython3",
   "version": "3.9.2"
  }
 },
 "nbformat": 4,
 "nbformat_minor": 5
}
